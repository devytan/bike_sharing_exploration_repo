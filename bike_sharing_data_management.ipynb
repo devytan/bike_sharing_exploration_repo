{
 "cells": [
  {
   "cell_type": "markdown",
   "id": "4080b109-5e10-407d-918e-35d9498feb08",
   "metadata": {},
   "source": [
    "## Import and initialization"
   ]
  },
  {
   "cell_type": "code",
   "execution_count": null,
   "id": "624a6191-a9ed-4e0e-8002-8ccaa4681fd7",
   "metadata": {},
   "outputs": [],
   "source": [
    "import pandas as pd\n",
    "import numpy as np\n",
    "import plotly.express as px\n",
    "\n",
    "%matplotlib inline\n",
    "%reload_ext autoreload\n",
    "%autoreload 2"
   ]
  },
  {
   "cell_type": "markdown",
   "id": "31b8a099-8282-4a81-92ac-49800f9e9f99",
   "metadata": {},
   "source": [
    "## Data Preparation and Management"
   ]
  },
  {
   "cell_type": "code",
   "execution_count": 1,
   "id": "38a7cc15-d8b7-4586-a38f-2eabdd888384",
   "metadata": {},
   "outputs": [
    {
     "ename": "NameError",
     "evalue": "name 'pd' is not defined",
     "output_type": "error",
     "traceback": [
      "\u001b[1;31m---------------------------------------------------------------------------\u001b[0m",
      "\u001b[1;31mNameError\u001b[0m                                 Traceback (most recent call last)",
      "\u001b[1;32m~\\AppData\\Local\\Temp\\ipykernel_3568\\552328505.py\u001b[0m in \u001b[0;36m<module>\u001b[1;34m\u001b[0m\n\u001b[0;32m      1\u001b[0m \u001b[1;31m# Load CVS files into Data Frames\u001b[0m\u001b[1;33m\u001b[0m\u001b[1;33m\u001b[0m\u001b[0m\n\u001b[1;32m----> 2\u001b[1;33m \u001b[0mdf_hour\u001b[0m \u001b[1;33m=\u001b[0m \u001b[0mpd\u001b[0m\u001b[1;33m.\u001b[0m\u001b[0mDataFrame\u001b[0m\u001b[1;33m(\u001b[0m\u001b[0mpd\u001b[0m\u001b[1;33m.\u001b[0m\u001b[0mread_csv\u001b[0m\u001b[1;33m(\u001b[0m\u001b[1;34m'hour.csv'\u001b[0m\u001b[1;33m)\u001b[0m\u001b[1;33m)\u001b[0m\u001b[1;33m\u001b[0m\u001b[1;33m\u001b[0m\u001b[0m\n\u001b[0m\u001b[0;32m      3\u001b[0m \u001b[0mdf_day\u001b[0m \u001b[1;33m=\u001b[0m \u001b[0mpd\u001b[0m\u001b[1;33m.\u001b[0m\u001b[0mDataFrame\u001b[0m\u001b[1;33m(\u001b[0m\u001b[0mpd\u001b[0m\u001b[1;33m.\u001b[0m\u001b[0mread_csv\u001b[0m\u001b[1;33m(\u001b[0m\u001b[1;34m'day.csv'\u001b[0m\u001b[1;33m)\u001b[0m\u001b[1;33m)\u001b[0m\u001b[1;33m\u001b[0m\u001b[1;33m\u001b[0m\u001b[0m\n\u001b[0;32m      4\u001b[0m \u001b[1;33m\u001b[0m\u001b[0m\n\u001b[0;32m      5\u001b[0m \u001b[1;31m# Relabel values within Loaded Data Frame\u001b[0m\u001b[1;33m\u001b[0m\u001b[1;33m\u001b[0m\u001b[0m\n",
      "\u001b[1;31mNameError\u001b[0m: name 'pd' is not defined"
     ]
    }
   ],
   "source": [
    "# Load CVS files into Data Frames\n",
    "df_hour = pd.DataFrame(pd.read_csv('hour.csv'))\n",
    "df_day = pd.DataFrame(pd.read_csv('day.csv'))\n",
    "\n",
    "# Relabel values within Loaded Data Frame\n",
    "# Season labels\n",
    "old_season = [1, 2, 3, 4]\n",
    "new_season = ['Spring', 'Summer', 'Autumn', 'Winter']\n",
    "df_hour['season'] = df_hour['season'].replace(old_season, new_season)\n",
    "df_day['season'] = df_day['season'].replace(old_season, new_season)\n",
    "\n",
    "# Month labels\n",
    "old_month = [1, 2, 3, 4, 5, 6, 7, 8, 9, 10, 11, 12]\n",
    "new_month = ['January', 'February', 'March', 'April', 'May', 'June', 'July', 'August', 'September', 'October', 'November', 'December']\n",
    "df_hour['mnth'] = df_hour['mnth'].replace(old_month, new_month)\n",
    "df_day['mnth'] = df_day['mnth'].replace(old_month, new_month)\n",
    "\n",
    "# Weekday labels\n",
    "old_weekday = [0, 1, 2, 3, 4, 5, 6]\n",
    "new_weekday = ['Sunday', 'Monday', 'Tuesday', 'Wednesday', 'Thrusday', 'Friday', 'Saturday']\n",
    "df_hour['weekday'] = df_hour['weekday'].replace(old_weekday, new_weekday)\n",
    "df_day['weekday'] = df_day['weekday'].replace(old_weekday, new_weekday)\n",
    "\n",
    "# Holiday labels\n",
    "old_holiday = [0, 1]\n",
    "new_holiday = ['No', 'Yes']\n",
    "df_hour['holiday'] = df_hour['holiday'].replace(old_holiday, new_holiday)\n",
    "df_day['holiday'] = df_day['holiday'].replace(old_holiday, new_holiday)\n",
    "\n",
    "# Working day labels\n",
    "old_working_day = [0, 1]\n",
    "new_working_day = ['No', 'Yes']\n",
    "df_hour['workingday'] = df_hour['workingday'].replace(old_working_day, new_working_day)\n",
    "df_day['workingday'] = df_day['workingday'].replace(old_working_day, new_working_day)\n",
    "\n",
    "# Weather situation labels\n",
    "old_weathersit = [1, 2, 3, 4]\n",
    "new_weathersit = ['Light', 'Medium', 'Heavy', 'Very Heavy']\n",
    "df_hour['weathersit'] = df_hour['weathersit'].replace(old_weathersit, new_weathersit)\n",
    "df_day['weathersit'] = df_day['weathersit'].replace(old_weathersit, new_weathersit)\n",
    "\n",
    "# Hour labels > catergory order for plots\n",
    "hours = [0, 1, 2, 3, 4, 5, 6, 7, 8, 9, 10, 11, 12, 13, 14, 15, 16, 17, 18, 19, 20, 21, 22, 23]\n",
    "\n",
    "# Write updated hour data frame into CSV flile\n",
    "df_hour.to_csv('bike_sharing_hour_transformed.csv')"
   ]
  },
  {
   "cell_type": "code",
   "execution_count": null,
   "id": "5ff40ad2-4015-4b3c-b1a7-305464a0d9c1",
   "metadata": {},
   "outputs": [],
   "source": []
  }
 ],
 "metadata": {
  "kernelspec": {
   "display_name": "Python 3 (ipykernel)",
   "language": "python",
   "name": "python3"
  },
  "language_info": {
   "codemirror_mode": {
    "name": "ipython",
    "version": 3
   },
   "file_extension": ".py",
   "mimetype": "text/x-python",
   "name": "python",
   "nbconvert_exporter": "python",
   "pygments_lexer": "ipython3",
   "version": "3.9.16"
  }
 },
 "nbformat": 4,
 "nbformat_minor": 5
}
